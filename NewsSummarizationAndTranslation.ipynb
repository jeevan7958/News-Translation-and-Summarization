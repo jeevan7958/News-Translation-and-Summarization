{
 "cells": [
  {
   "cell_type": "markdown",
   "id": "4b017a3d",
   "metadata": {},
   "source": [
    "# News Summarization and Translation\n",
    "\n",
    "This notebook demonstrates how to build a pipeline for translating and summarizing news articles using NLP."
   ]
  },
  {
   "cell_type": "code",
   "execution_count": 2,
   "id": "33be7bfd",
   "metadata": {},
   "outputs": [],
   "source": [
    "\n",
    "import os\n",
    "from transformers import MarianMTModel, MarianTokenizer, PegasusForConditionalGeneration, PegasusTokenizer\n",
    "from langdetect import detect\n",
    "\n",
    "# Define translation function\n",
    "def translate_text(text, source_lang, target_lang):\n",
    "    model_name = f\"Helsinki-NLP/opus-mt-{source_lang}-{target_lang}\"\n",
    "    tokenizer = MarianTokenizer.from_pretrained(model_name)\n",
    "    model = MarianMTModel.from_pretrained(model_name)\n",
    "\n",
    "    inputs = tokenizer(text, return_tensors=\"pt\", max_length=512, truncation=True)\n",
    "    translated = model.generate(**inputs)\n",
    "    return tokenizer.decode(translated[0], skip_special_tokens=True)\n",
    "\n",
    "# Define summarization function\n",
    "def summarize_text(text):\n",
    "    model_name = \"google/pegasus-xsum\"\n",
    "    tokenizer = PegasusTokenizer.from_pretrained(model_name)\n",
    "    model = PegasusForConditionalGeneration.from_pretrained(model_name)\n",
    "\n",
    "    inputs = tokenizer(text, return_tensors=\"pt\", max_length=1024, truncation=True)\n",
    "    summary = model.generate(**inputs)\n",
    "    return tokenizer.decode(summary[0], skip_special_tokens=True)\n",
    "\n",
    "# Pipeline for news processing\n",
    "def process_news_article(article, target_language=\"en\"):\n",
    "    source_language = detect(article)\n",
    "\n",
    "    # Translate if necessary\n",
    "    if source_language != target_language:\n",
    "        print(f\"Translating from {source_language} to {target_language}...\")\n",
    "        article = translate_text(article, source_language, target_language)\n",
    "\n",
    "    # Summarize\n",
    "    print(\"Summarizing article...\")\n",
    "    summary = summarize_text(article)\n",
    "    return article, summary\n"
   ]
  },
  {
   "cell_type": "markdown",
   "id": "af961f5d",
   "metadata": {},
   "source": [
    "## Example Usage\n",
    "Paste your news article below and specify the target language."
   ]
  },
  {
   "cell_type": "code",
   "execution_count": 3,
   "id": "48fed063",
   "metadata": {},
   "outputs": [
    {
     "name": "stdout",
     "output_type": "stream",
     "text": [
      "Translating from en to fr...\n"
     ]
    },
    {
     "data": {
      "application/vnd.jupyter.widget-view+json": {
       "model_id": "c590f382b2534d81b4c03783b8142059",
       "version_major": 2,
       "version_minor": 0
      },
      "text/plain": [
       "tokenizer_config.json:   0%|          | 0.00/42.0 [00:00<?, ?B/s]"
      ]
     },
     "metadata": {},
     "output_type": "display_data"
    },
    {
     "name": "stderr",
     "output_type": "stream",
     "text": [
      "C:\\Users\\danda\\AppData\\Local\\Packages\\PythonSoftwareFoundation.Python.3.11_qbz5n2kfra8p0\\LocalCache\\local-packages\\Python311\\site-packages\\huggingface_hub\\file_download.py:140: UserWarning: `huggingface_hub` cache-system uses symlinks by default to efficiently store duplicated files but your machine does not support them in C:\\Users\\danda\\.cache\\huggingface\\hub\\models--Helsinki-NLP--opus-mt-en-fr. Caching files will still work but in a degraded version that might require more space on your disk. This warning can be disabled by setting the `HF_HUB_DISABLE_SYMLINKS_WARNING` environment variable. For more details, see https://huggingface.co/docs/huggingface_hub/how-to-cache#limitations.\n",
      "To support symlinks on Windows, you either need to activate Developer Mode or to run Python as an administrator. In order to activate developer mode, see this article: https://docs.microsoft.com/en-us/windows/apps/get-started/enable-your-device-for-development\n",
      "  warnings.warn(message)\n"
     ]
    },
    {
     "data": {
      "application/vnd.jupyter.widget-view+json": {
       "model_id": "a8520bbfad614b6c96200cf5dad1f085",
       "version_major": 2,
       "version_minor": 0
      },
      "text/plain": [
       "source.spm:   0%|          | 0.00/778k [00:00<?, ?B/s]"
      ]
     },
     "metadata": {},
     "output_type": "display_data"
    },
    {
     "data": {
      "application/vnd.jupyter.widget-view+json": {
       "model_id": "cb0104147c3940238efba378dda5b98d",
       "version_major": 2,
       "version_minor": 0
      },
      "text/plain": [
       "target.spm:   0%|          | 0.00/802k [00:00<?, ?B/s]"
      ]
     },
     "metadata": {},
     "output_type": "display_data"
    },
    {
     "data": {
      "application/vnd.jupyter.widget-view+json": {
       "model_id": "f17f003dc04f4ad8b081763b15af2a84",
       "version_major": 2,
       "version_minor": 0
      },
      "text/plain": [
       "vocab.json:   0%|          | 0.00/1.34M [00:00<?, ?B/s]"
      ]
     },
     "metadata": {},
     "output_type": "display_data"
    },
    {
     "data": {
      "application/vnd.jupyter.widget-view+json": {
       "model_id": "1342819716744e2a9ea308600ab533c8",
       "version_major": 2,
       "version_minor": 0
      },
      "text/plain": [
       "config.json:   0%|          | 0.00/1.42k [00:00<?, ?B/s]"
      ]
     },
     "metadata": {},
     "output_type": "display_data"
    },
    {
     "name": "stderr",
     "output_type": "stream",
     "text": [
      "C:\\Users\\danda\\AppData\\Local\\Packages\\PythonSoftwareFoundation.Python.3.11_qbz5n2kfra8p0\\LocalCache\\local-packages\\Python311\\site-packages\\transformers\\models\\marian\\tokenization_marian.py:175: UserWarning: Recommended: pip install sacremoses.\n",
      "  warnings.warn(\"Recommended: pip install sacremoses.\")\n"
     ]
    },
    {
     "data": {
      "application/vnd.jupyter.widget-view+json": {
       "model_id": "881c1704220f4961b7dd896492168ef6",
       "version_major": 2,
       "version_minor": 0
      },
      "text/plain": [
       "pytorch_model.bin:   0%|          | 0.00/301M [00:00<?, ?B/s]"
      ]
     },
     "metadata": {},
     "output_type": "display_data"
    },
    {
     "data": {
      "application/vnd.jupyter.widget-view+json": {
       "model_id": "77b57cca2e124143af1ceba5007e4ed4",
       "version_major": 2,
       "version_minor": 0
      },
      "text/plain": [
       "generation_config.json:   0%|          | 0.00/293 [00:00<?, ?B/s]"
      ]
     },
     "metadata": {},
     "output_type": "display_data"
    },
    {
     "name": "stdout",
     "output_type": "stream",
     "text": [
      "Summarizing article...\n"
     ]
    },
    {
     "data": {
      "application/vnd.jupyter.widget-view+json": {
       "model_id": "4d3254fdeed0442d89ebe84699d51d51",
       "version_major": 2,
       "version_minor": 0
      },
      "text/plain": [
       "tokenizer_config.json:   0%|          | 0.00/87.0 [00:00<?, ?B/s]"
      ]
     },
     "metadata": {},
     "output_type": "display_data"
    },
    {
     "name": "stderr",
     "output_type": "stream",
     "text": [
      "C:\\Users\\danda\\AppData\\Local\\Packages\\PythonSoftwareFoundation.Python.3.11_qbz5n2kfra8p0\\LocalCache\\local-packages\\Python311\\site-packages\\huggingface_hub\\file_download.py:140: UserWarning: `huggingface_hub` cache-system uses symlinks by default to efficiently store duplicated files but your machine does not support them in C:\\Users\\danda\\.cache\\huggingface\\hub\\models--google--pegasus-xsum. Caching files will still work but in a degraded version that might require more space on your disk. This warning can be disabled by setting the `HF_HUB_DISABLE_SYMLINKS_WARNING` environment variable. For more details, see https://huggingface.co/docs/huggingface_hub/how-to-cache#limitations.\n",
      "To support symlinks on Windows, you either need to activate Developer Mode or to run Python as an administrator. In order to activate developer mode, see this article: https://docs.microsoft.com/en-us/windows/apps/get-started/enable-your-device-for-development\n",
      "  warnings.warn(message)\n"
     ]
    },
    {
     "data": {
      "application/vnd.jupyter.widget-view+json": {
       "model_id": "5553956cd05b426c92cc61ff993c0b69",
       "version_major": 2,
       "version_minor": 0
      },
      "text/plain": [
       "spiece.model:   0%|          | 0.00/1.91M [00:00<?, ?B/s]"
      ]
     },
     "metadata": {},
     "output_type": "display_data"
    },
    {
     "data": {
      "application/vnd.jupyter.widget-view+json": {
       "model_id": "3743bc7c65d748dda0e62325b8fbead3",
       "version_major": 2,
       "version_minor": 0
      },
      "text/plain": [
       "special_tokens_map.json:   0%|          | 0.00/65.0 [00:00<?, ?B/s]"
      ]
     },
     "metadata": {},
     "output_type": "display_data"
    },
    {
     "data": {
      "application/vnd.jupyter.widget-view+json": {
       "model_id": "4862d886892942d3824dfbacb396dfbf",
       "version_major": 2,
       "version_minor": 0
      },
      "text/plain": [
       "tokenizer.json:   0%|          | 0.00/3.52M [00:00<?, ?B/s]"
      ]
     },
     "metadata": {},
     "output_type": "display_data"
    },
    {
     "data": {
      "application/vnd.jupyter.widget-view+json": {
       "model_id": "9268127d8216447fa59682766348156b",
       "version_major": 2,
       "version_minor": 0
      },
      "text/plain": [
       "config.json:   0%|          | 0.00/1.39k [00:00<?, ?B/s]"
      ]
     },
     "metadata": {},
     "output_type": "display_data"
    },
    {
     "data": {
      "application/vnd.jupyter.widget-view+json": {
       "model_id": "e015410dca62465dba43b92e6bf2599b",
       "version_major": 2,
       "version_minor": 0
      },
      "text/plain": [
       "pytorch_model.bin:   0%|          | 0.00/2.28G [00:00<?, ?B/s]"
      ]
     },
     "metadata": {},
     "output_type": "display_data"
    },
    {
     "name": "stderr",
     "output_type": "stream",
     "text": [
      "Some weights of PegasusForConditionalGeneration were not initialized from the model checkpoint at google/pegasus-xsum and are newly initialized: ['model.decoder.embed_positions.weight', 'model.encoder.embed_positions.weight']\n",
      "You should probably TRAIN this model on a down-stream task to be able to use it for predictions and inference.\n"
     ]
    },
    {
     "data": {
      "application/vnd.jupyter.widget-view+json": {
       "model_id": "c7a73464786b4406a19071b2e64851b7",
       "version_major": 2,
       "version_minor": 0
      },
      "text/plain": [
       "generation_config.json:   0%|          | 0.00/259 [00:00<?, ?B/s]"
      ]
     },
     "metadata": {},
     "output_type": "display_data"
    },
    {
     "name": "stdout",
     "output_type": "stream",
     "text": [
      "\n",
      "Translated Text: Une fois relégués dans les usines et les entrepôts, les robots de la prochaine génération peuvent être utilisés dans les espaces publics – des magasins de détail aux musées – le nettoyage, la cuisson et même la conversation avec les humains. Améliorations dans le domaine du cerveau, notamment l'adoption de la technologie derrière ChatGPT, et une poussée d'investissement sont en train de conduire leurs débuts publics et 2025 pourrait être un tournant dans ce que les robots peuvent faire. Les opérateurs disent qu'ils attendent de déployer plus de robots publics. Le secteur de la robotique et des drones en 2024 avait attiré environ 12,8 milliards de dollars en capital-risque à la mi-décembre, en hausse de 11,6 milliards de dollars en 2023, selon la firme d'analyse PitchBook.\n",
      "\n",
      "Summary: Une fois relégués dans les usines et les entrepts, les robots de la prochaine génération peuvent tre utilisés les espaces publics - des magasins de détail aux musées - le net\n"
     ]
    }
   ],
   "source": [
    "\n",
    "# Example usage\n",
    "news_article = \"\"\"Robots are stepping out. Once relegated to factories and warehouses, next-generation robots are popping up in public spaces—from retail stores to museums—cleaning, cooking and even conversing with humans.\n",
    "\n",
    "Improvements in “brainpower,” most notably the adoption of the technology behind ChatGPT, and a surge of investment are helping drive their public debut and 2025 could be a turning point in what robots can do. \n",
    "\n",
    "Operators say they expect to deploy more public-facing robots. The robotics and drone sector in 2024 had attracted about $12.8 billion in venture-capital dollars by mid-December, up from $11.6 billion in all of 2023, according to analytics firm PitchBook. \n",
    "\n",
    "While operators are excited about new GenAI-powered capabilities, they are mindful that this next generation of robots won’t excel at every human interaction without some stumbles.\n",
    "\n",
    "Make that many stumbles. \n",
    "\n",
    "“Some things which are very easy for people are very hard for robots,” said David Pinn, chief executive of Brain Corp, which provides software for automated floor-cleaning and inventory management robots used at retailers like Sam’s Club.  \n",
    "\n",
    "Even something as simple as picking up an arbitrary object and moving it “is a really hard problem in the world of robotics,” he said.\n",
    "\n",
    "Traditionally, robots rely on code that tells them how to execute functions or react to specific scenarios. Variability of what they could do was more or less limited to the specific actions they were trained on. \n",
    "\n",
    "At health system Houston Methodist, Chief Innovation Officer Roberta Schwartz discovered that robots designed to carry out a number of tasks, from checking fire extinguishers to carrying towels, often bumped into objects and got easily confused by elevators.\n",
    "\n",
    "Robots that will operate in human spaces will need better dexterity and the ability to circumvent obstacles—both areas that generative AI, the technology behind many of today’s chatbots, could help with. \n",
    "\n",
    "“You can train the robot through massive data sets to be able to achieve this kind of dexterity, that until now has only been achievable by our own labor,” said Brain Corp’s Pinn.\n",
    "\n",
    "Generative AI could give robots the ability to plan and replan their tasks if they encounter an obstacle, understand what certain objects are even if they’ve never seen them before, and, critically, take commands in human language, said Marc Segura, president of the robotics division at ABB, a Zurich-based automation provider.\n",
    "\n",
    "Conversation is a big factor as robots move further into human spaces. Will Jackson, founder and CEO of robotics company Engineered Arts, believes that sectors like hospitality and entertainment are ripe for the introduction of robots that not only talk like humans but look like them as well.\"\"\"\n",
    "target_lang = \"fr\"\n",
    "\n",
    "translated_text, summary = process_news_article(news_article, target_language=target_lang)\n",
    "print(\"\\nTranslated Text:\", translated_text)\n",
    "print(\"\\nSummary:\", summary)\n"
   ]
  },
  {
   "cell_type": "code",
   "execution_count": null,
   "id": "039d2f3f",
   "metadata": {},
   "outputs": [],
   "source": []
  }
 ],
 "metadata": {
  "kernelspec": {
   "display_name": "Python 3",
   "language": "python",
   "name": "python3"
  },
  "language_info": {
   "codemirror_mode": {
    "name": "ipython",
    "version": 3
   },
   "file_extension": ".py",
   "mimetype": "text/x-python",
   "name": "python",
   "nbconvert_exporter": "python",
   "pygments_lexer": "ipython3",
   "version": "3.11.9"
  }
 },
 "nbformat": 4,
 "nbformat_minor": 5
}
